{
 "cells": [
  {
   "cell_type": "code",
   "execution_count": 83,
   "metadata": {},
   "outputs": [],
   "source": [
    "class myMaxHeap:\n",
    "    def __init__(self):\n",
    "        self.heap = []\n",
    "        self.heapSize = 0\n",
    "        \n",
    "    def insert(self, num):\n",
    "        \n",
    "        self.heap.append(num)\n",
    "        self.heapSize +=1\n",
    "        \n",
    "        iteration = self.heapSize\n",
    "        \n",
    "        while((iteration !=1) and (num > self.heap[iteration//2-1])):\n",
    "            \n",
    "            self.heap[iteration-1] = self.heap[iteration//2-1]\n",
    "            iteration //= 2\n",
    "            \n",
    "        self.heap[iteration-1] = num\n",
    "        \n",
    "    \n",
    "    def pop(self):\n",
    "        \n",
    "        # we will get the root that is a maximum number\n",
    "        value = self.heap[0]\n",
    "        \n",
    "        key = self.heap.pop()\n",
    "        #print(key)\n",
    "        self.heapSize -=1\n",
    "        \n",
    "        parent = 1\n",
    "        # current child node is left one\n",
    "        child = 2\n",
    "        \n",
    "        while(child <= self.heapSize):\n",
    "            \n",
    "            # if the right node is bigger than the left node, change child node to right node\n",
    "            if(((child+1) <= self.heapSize) and (self.heap[child] > self.heap[child-1])):\n",
    "                child +=1\n",
    "                \n",
    "            if(key >= self.heap[child-1]):\n",
    "                break\n",
    "                \n",
    "            self.heap[parent-1] = self.heap[child-1]\n",
    "            \n",
    "            parent = child\n",
    "            child = parent * 2\n",
    "        \n",
    "        self.heap[parent-1] = key\n",
    "        \n",
    "        return value\n",
    "    \n",
    "    def clear(self):\n",
    "        self.heap = []\n",
    "        self.heapSize =0"
   ]
  },
  {
   "cell_type": "code",
   "execution_count": 84,
   "metadata": {},
   "outputs": [],
   "source": [
    "myheap = myMaxHeap()"
   ]
  },
  {
   "cell_type": "code",
   "execution_count": 85,
   "metadata": {},
   "outputs": [],
   "source": [
    "myheap.insert(10)\n",
    "myheap.insert(2)\n",
    "myheap.insert(9)\n",
    "myheap.insert(4)"
   ]
  },
  {
   "cell_type": "code",
   "execution_count": 86,
   "metadata": {},
   "outputs": [],
   "source": [
    "myheap.insert(5)\n",
    "myheap.insert(7)\n",
    "myheap.insert(12)"
   ]
  },
  {
   "cell_type": "code",
   "execution_count": 87,
   "metadata": {},
   "outputs": [
    {
     "data": {
      "text/plain": [
       "[12, 5, 10, 2, 4, 7, 9]"
      ]
     },
     "execution_count": 87,
     "metadata": {},
     "output_type": "execute_result"
    }
   ],
   "source": [
    "myheap.heap"
   ]
  },
  {
   "cell_type": "code",
   "execution_count": 88,
   "metadata": {},
   "outputs": [
    {
     "data": {
      "text/plain": [
       "12"
      ]
     },
     "execution_count": 88,
     "metadata": {},
     "output_type": "execute_result"
    }
   ],
   "source": [
    "myheap.pop()"
   ]
  },
  {
   "cell_type": "code",
   "execution_count": 89,
   "metadata": {},
   "outputs": [
    {
     "data": {
      "text/plain": [
       "[10, 5, 9, 2, 4, 7]"
      ]
     },
     "execution_count": 89,
     "metadata": {},
     "output_type": "execute_result"
    }
   ],
   "source": [
    "myheap.heap"
   ]
  },
  {
   "cell_type": "code",
   "execution_count": null,
   "metadata": {},
   "outputs": [],
   "source": []
  },
  {
   "cell_type": "code",
   "execution_count": null,
   "metadata": {},
   "outputs": [],
   "source": []
  }
 ],
 "metadata": {
  "kernelspec": {
   "display_name": "Python 3",
   "language": "python",
   "name": "python3"
  },
  "language_info": {
   "codemirror_mode": {
    "name": "ipython",
    "version": 3
   },
   "file_extension": ".py",
   "mimetype": "text/x-python",
   "name": "python",
   "nbconvert_exporter": "python",
   "pygments_lexer": "ipython3",
   "version": "3.8.3"
  }
 },
 "nbformat": 4,
 "nbformat_minor": 4
}
