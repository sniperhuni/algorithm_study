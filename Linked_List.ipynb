{
 "cells": [
  {
   "cell_type": "code",
   "execution_count": 99,
   "metadata": {},
   "outputs": [],
   "source": [
    "class Node:\n",
    "    def __init__(self, data):\n",
    "        self.data = data\n",
    "        self.previous = None\n",
    "        self.next = None\n",
    "        \n",
    "        print('node was created')\n",
    "        print('data', self.data)\n"
   ]
  },
  {
   "cell_type": "code",
   "execution_count": 138,
   "metadata": {},
   "outputs": [],
   "source": [
    "class LinkedList:\n",
    "    def __init__(self):\n",
    "        self.head = None\n",
    "        self.listSize = 0\n",
    "        \n",
    "    def insert_tail(self, data):\n",
    "        \n",
    "        node = Node(data)\n",
    "        \n",
    "        #print(node.data)\n",
    "        \n",
    "        if not self.head:\n",
    "            self.head = node\n",
    "            print('head was created')\n",
    "            self.listSize +=1\n",
    "            \n",
    "        elif self.listSize ==1:\n",
    "            self.head.next = node\n",
    "            node.previous = self.head\n",
    "            self.listSize +=1       \n",
    "        else:    \n",
    "            current_node = self.head\n",
    "\n",
    "            for i in range(self.listSize-1):\n",
    "                print(i)\n",
    "                print('data', current_node.next.data)\n",
    "                current_node = current_node.next\n",
    "\n",
    "            current_node.next = node\n",
    "            node.previous = current_node\n",
    "            self.listSize +=1\n",
    "            \n",
    "    def delete(self):\n",
    "        pass\n",
    "            \n",
    "    def search(self):\n",
    "        pass\n",
    "            \n",
    "    def printList(self):\n",
    "        \n",
    "        current_node = self.head\n",
    "        \n",
    "        for i in range(self.listSize):\n",
    "            print(current_node.data, '->', end=' ')\n",
    "            current_node = current_node.next\n",
    "            \n",
    "    def clear(self):\n",
    "        self.head = None\n",
    "        self.listSize = 0\n",
    "            \n",
    "        "
   ]
  },
  {
   "cell_type": "code",
   "execution_count": 139,
   "metadata": {},
   "outputs": [],
   "source": [
    "myll = LinkedList()"
   ]
  },
  {
   "cell_type": "code",
   "execution_count": 140,
   "metadata": {},
   "outputs": [
    {
     "name": "stdout",
     "output_type": "stream",
     "text": [
      "node was created\n",
      "data 5\n",
      "head was created\n"
     ]
    }
   ],
   "source": [
    "myll.insert_tail(5)"
   ]
  },
  {
   "cell_type": "code",
   "execution_count": 141,
   "metadata": {},
   "outputs": [
    {
     "name": "stdout",
     "output_type": "stream",
     "text": [
      "5 -> "
     ]
    }
   ],
   "source": [
    "myll.printList()"
   ]
  },
  {
   "cell_type": "code",
   "execution_count": 142,
   "metadata": {},
   "outputs": [
    {
     "name": "stdout",
     "output_type": "stream",
     "text": [
      "5\n",
      "1\n"
     ]
    }
   ],
   "source": [
    "print(myll.head.data)\n",
    "print(myll.listSize)"
   ]
  },
  {
   "cell_type": "code",
   "execution_count": 143,
   "metadata": {},
   "outputs": [
    {
     "name": "stdout",
     "output_type": "stream",
     "text": [
      "node was created\n",
      "data 7\n"
     ]
    }
   ],
   "source": [
    "myll.insert_tail(7)"
   ]
  },
  {
   "cell_type": "code",
   "execution_count": 144,
   "metadata": {},
   "outputs": [
    {
     "data": {
      "text/plain": [
       "7"
      ]
     },
     "execution_count": 144,
     "metadata": {},
     "output_type": "execute_result"
    }
   ],
   "source": [
    "myll.head.next.data"
   ]
  },
  {
   "cell_type": "code",
   "execution_count": 145,
   "metadata": {},
   "outputs": [
    {
     "data": {
      "text/plain": [
       "5"
      ]
     },
     "execution_count": 145,
     "metadata": {},
     "output_type": "execute_result"
    }
   ],
   "source": [
    "myll.head.next.previous.data"
   ]
  },
  {
   "cell_type": "code",
   "execution_count": 146,
   "metadata": {},
   "outputs": [
    {
     "name": "stdout",
     "output_type": "stream",
     "text": [
      "node was created\n",
      "data 9\n",
      "0\n",
      "data 7\n"
     ]
    }
   ],
   "source": [
    "myll.insert_tail(9)"
   ]
  },
  {
   "cell_type": "code",
   "execution_count": 147,
   "metadata": {},
   "outputs": [
    {
     "data": {
      "text/plain": [
       "9"
      ]
     },
     "execution_count": 147,
     "metadata": {},
     "output_type": "execute_result"
    }
   ],
   "source": [
    "myll.head.next.next.data"
   ]
  },
  {
   "cell_type": "code",
   "execution_count": 148,
   "metadata": {},
   "outputs": [
    {
     "name": "stdout",
     "output_type": "stream",
     "text": [
      "5 -> 7 -> 9 -> "
     ]
    }
   ],
   "source": [
    "myll.printList()"
   ]
  },
  {
   "cell_type": "code",
   "execution_count": 124,
   "metadata": {},
   "outputs": [
    {
     "name": "stdout",
     "output_type": "stream",
     "text": [
      "node was created\n",
      "data 9\n",
      "head was created\n"
     ]
    }
   ],
   "source": [
    "myll.insert_tail(9)"
   ]
  },
  {
   "cell_type": "code",
   "execution_count": 126,
   "metadata": {},
   "outputs": [
    {
     "data": {
      "text/plain": [
       "9"
      ]
     },
     "execution_count": 126,
     "metadata": {},
     "output_type": "execute_result"
    }
   ],
   "source": [
    "myll.head.data"
   ]
  },
  {
   "cell_type": "code",
   "execution_count": null,
   "metadata": {},
   "outputs": [],
   "source": []
  }
 ],
 "metadata": {
  "kernelspec": {
   "display_name": "Python 3",
   "language": "python",
   "name": "python3"
  },
  "language_info": {
   "codemirror_mode": {
    "name": "ipython",
    "version": 3
   },
   "file_extension": ".py",
   "mimetype": "text/x-python",
   "name": "python",
   "nbconvert_exporter": "python",
   "pygments_lexer": "ipython3",
   "version": "3.8.3"
  }
 },
 "nbformat": 4,
 "nbformat_minor": 4
}
