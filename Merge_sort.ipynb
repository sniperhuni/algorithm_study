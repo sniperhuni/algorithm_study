{
 "cells": [
  {
   "cell_type": "code",
   "execution_count": 30,
   "metadata": {},
   "outputs": [],
   "source": [
    "def myMerge(array, start, middle, end):\n",
    "    \n",
    "    # Divide into two array\n",
    "    n_left = middle - start + 1\n",
    "    n_right = end - middle\n",
    "    \n",
    "    left_array = [array[start + i] for i in range(n_left)]\n",
    "    right_array = [array[middle+1 + j] for j in range(n_right)]\n",
    "    \n",
    "    # This is to keep algorithm going \n",
    "    # after being moved all elements of one array\n",
    "    left_array.append(float('inf'))\n",
    "    right_array.append(float('inf'))\n",
    "    \n",
    "    #print(left_array)\n",
    "    #print(right_array)\n",
    "    \n",
    "    i = 0\n",
    "    j = 0\n",
    "    \n",
    "    result = []\n",
    "    \n",
    "    for k in range(start, end+ 1):\n",
    "        \n",
    "        if left_array[i] <= right_array[j]:\n",
    "            \n",
    "            array[k] = left_array[i]\n",
    "            i += 1\n",
    "            \n",
    "        else:\n",
    "            \n",
    "            array[k] = right_array[j]\n",
    "            j += 1\n",
    "            "
   ]
  },
  {
   "cell_type": "code",
   "execution_count": 35,
   "metadata": {},
   "outputs": [],
   "source": [
    "def myMergeSort(array, start, end):\n",
    "    \n",
    "    if start < end:\n",
    "        \n",
    "        middle = (start + end) // 2\n",
    "        \n",
    "        myMergeSort(array, start, middle)\n",
    "        myMergeSort(array, middle+1, end)\n",
    "        \n",
    "        myMerge(array, start, middle, end)\n",
    "        \n",
    "        print('**********************')\n",
    "        \n",
    "    return array\n",
    "        "
   ]
  },
  {
   "cell_type": "code",
   "execution_count": 36,
   "metadata": {},
   "outputs": [
    {
     "name": "stdout",
     "output_type": "stream",
     "text": [
      "**********************\n",
      "**********************\n",
      "**********************\n",
      "**********************\n",
      "**********************\n",
      "**********************\n",
      "**********************\n",
      "[1, 2, 2, 3, 4, 5, 6, 7]\n"
     ]
    }
   ],
   "source": [
    "a = [5, 2, 4, 7, 1, 3, 2, 6]\n",
    "\n",
    "print(myMergeSort(a, 0, 7))"
   ]
  }
 ],
 "metadata": {
  "kernelspec": {
   "display_name": "Python 3",
   "language": "python",
   "name": "python3"
  },
  "language_info": {
   "codemirror_mode": {
    "name": "ipython",
    "version": 3
   },
   "file_extension": ".py",
   "mimetype": "text/x-python",
   "name": "python",
   "nbconvert_exporter": "python",
   "pygments_lexer": "ipython3",
   "version": "3.8.3"
  }
 },
 "nbformat": 4,
 "nbformat_minor": 4
}
